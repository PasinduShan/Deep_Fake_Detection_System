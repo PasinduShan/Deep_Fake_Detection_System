{
 "cells": [
  {
   "cell_type": "code",
   "execution_count": 17,
   "id": "d2b8b4d3-2807-4edd-a78c-7087ecf67149",
   "metadata": {},
   "outputs": [
    {
     "name": "stdout",
     "output_type": "stream",
     "text": [
      "Collecting facenet-pytorch\n",
      "  Downloading facenet_pytorch-2.6.0-py3-none-any.whl (1.9 MB)\n",
      "     ---------------------------------------- 1.9/1.9 MB 5.4 MB/s eta 0:00:00\n",
      "Requirement already satisfied: numpy<2.0.0,>=1.24.0 in c:\\users\\aditha ayomal\\appdata\\local\\programs\\python\\python311\\lib\\site-packages (from facenet-pytorch) (1.26.4)\n",
      "Collecting Pillow<10.3.0,>=10.2.0\n",
      "  Downloading pillow-10.2.0-cp311-cp311-win_amd64.whl (2.6 MB)\n",
      "     ---------------------------------------- 2.6/2.6 MB 10.4 MB/s eta 0:00:00\n",
      "Requirement already satisfied: requests<3.0.0,>=2.0.0 in c:\\users\\aditha ayomal\\appdata\\local\\programs\\python\\python311\\lib\\site-packages (from facenet-pytorch) (2.32.3)\n",
      "Collecting torch<2.3.0,>=2.2.0\n",
      "  Downloading torch-2.2.2-cp311-cp311-win_amd64.whl (198.6 MB)\n",
      "     -------------------------------------- 198.6/198.6 MB 1.3 MB/s eta 0:00:00\n",
      "Collecting torchvision<0.18.0,>=0.17.0\n",
      "  Downloading torchvision-0.17.2-cp311-cp311-win_amd64.whl (1.2 MB)\n",
      "     ---------------------------------------- 1.2/1.2 MB 9.2 MB/s eta 0:00:00\n",
      "Requirement already satisfied: tqdm<5.0.0,>=4.0.0 in c:\\users\\aditha ayomal\\appdata\\local\\programs\\python\\python311\\lib\\site-packages (from facenet-pytorch) (4.66.5)\n",
      "Requirement already satisfied: charset-normalizer<4,>=2 in c:\\users\\aditha ayomal\\appdata\\local\\programs\\python\\python311\\lib\\site-packages (from requests<3.0.0,>=2.0.0->facenet-pytorch) (3.4.0)\n",
      "Requirement already satisfied: idna<4,>=2.5 in c:\\users\\aditha ayomal\\appdata\\local\\programs\\python\\python311\\lib\\site-packages (from requests<3.0.0,>=2.0.0->facenet-pytorch) (3.10)\n",
      "Requirement already satisfied: urllib3<3,>=1.21.1 in c:\\users\\aditha ayomal\\appdata\\local\\programs\\python\\python311\\lib\\site-packages (from requests<3.0.0,>=2.0.0->facenet-pytorch) (2.2.3)\n",
      "Requirement already satisfied: certifi>=2017.4.17 in c:\\users\\aditha ayomal\\appdata\\local\\programs\\python\\python311\\lib\\site-packages (from requests<3.0.0,>=2.0.0->facenet-pytorch) (2024.8.30)\n",
      "Collecting filelock\n",
      "  Downloading filelock-3.16.1-py3-none-any.whl (16 kB)\n",
      "Requirement already satisfied: typing-extensions>=4.8.0 in c:\\users\\aditha ayomal\\appdata\\local\\programs\\python\\python311\\lib\\site-packages (from torch<2.3.0,>=2.2.0->facenet-pytorch) (4.12.2)\n",
      "Collecting sympy\n",
      "  Downloading sympy-1.13.3-py3-none-any.whl (6.2 MB)\n",
      "     ---------------------------------------- 6.2/6.2 MB 6.9 MB/s eta 0:00:00\n",
      "Collecting networkx\n",
      "  Downloading networkx-3.4.2-py3-none-any.whl (1.7 MB)\n",
      "     ---------------------------------------- 1.7/1.7 MB 7.3 MB/s eta 0:00:00\n",
      "Requirement already satisfied: jinja2 in c:\\users\\aditha ayomal\\appdata\\local\\programs\\python\\python311\\lib\\site-packages (from torch<2.3.0,>=2.2.0->facenet-pytorch) (3.1.4)\n",
      "Collecting fsspec\n",
      "  Downloading fsspec-2024.10.0-py3-none-any.whl (179 kB)\n",
      "     -------------------------------------- 179.6/179.6 kB 5.5 MB/s eta 0:00:00\n",
      "Requirement already satisfied: colorama in c:\\users\\aditha ayomal\\appdata\\local\\programs\\python\\python311\\lib\\site-packages (from tqdm<5.0.0,>=4.0.0->facenet-pytorch) (0.4.6)\n",
      "Requirement already satisfied: MarkupSafe>=2.0 in c:\\users\\aditha ayomal\\appdata\\local\\programs\\python\\python311\\lib\\site-packages (from jinja2->torch<2.3.0,>=2.2.0->facenet-pytorch) (3.0.2)\n",
      "Collecting mpmath<1.4,>=1.1.0\n",
      "  Downloading mpmath-1.3.0-py3-none-any.whl (536 kB)\n",
      "     ------------------------------------- 536.2/536.2 kB 11.2 MB/s eta 0:00:00\n",
      "Installing collected packages: mpmath, sympy, Pillow, networkx, fsspec, filelock, torch, torchvision, facenet-pytorch\n",
      "  Attempting uninstall: Pillow\n",
      "    Found existing installation: pillow 11.0.0\n",
      "    Uninstalling pillow-11.0.0:\n",
      "      Successfully uninstalled pillow-11.0.0\n",
      "Successfully installed Pillow-10.2.0 facenet-pytorch-2.6.0 filelock-3.16.1 fsspec-2024.10.0 mpmath-1.3.0 networkx-3.4.2 sympy-1.13.3 torch-2.2.2 torchvision-0.17.2\n"
     ]
    },
    {
     "name": "stderr",
     "output_type": "stream",
     "text": [
      "\n",
      "[notice] A new release of pip available: 22.3 -> 24.3.1\n",
      "[notice] To update, run: python.exe -m pip install --upgrade pip\n"
     ]
    }
   ],
   "source": [
    "!pip install facenet-pytorch\n",
    "\n",
    "\n"
   ]
  },
  {
   "cell_type": "code",
   "execution_count": 18,
   "id": "ce3cea84-35af-434f-9791-770a2f0422ae",
   "metadata": {},
   "outputs": [
    {
     "data": {
      "application/vnd.jupyter.widget-view+json": {
       "model_id": "8469590d77c74636813b0429d765cdfc",
       "version_major": 2,
       "version_minor": 0
      },
      "text/plain": [
       "  0%|          | 0.00/107M [00:00<?, ?B/s]"
      ]
     },
     "metadata": {},
     "output_type": "display_data"
    },
    {
     "name": "stdout",
     "output_type": "stream",
     "text": [
      "Processing real videos...\n"
     ]
    },
    {
     "name": "stderr",
     "output_type": "stream",
     "text": [
      "  0%|                                                                                            | 0/2 [00:00<?, ?it/s]"
     ]
    },
    {
     "name": "stdout",
     "output_type": "stream",
     "text": [
      "Error processing face in D:/test_dataset/real\\0001e96803--623955e76e1ee5175569a12b__HONOR 10I .mp4: OpenCV(4.10.0) D:\\a\\opencv-python\\opencv-python\\opencv\\modules\\imgproc\\src\\resize.cpp:4152: error: (-215:Assertion failed) !ssize.empty() in function 'cv::resize'\n",
      "\n",
      "Error processing face in D:/test_dataset/real\\0001e96803--623955e76e1ee5175569a12b__HONOR 10I .mp4: OpenCV(4.10.0) D:\\a\\opencv-python\\opencv-python\\opencv\\modules\\imgproc\\src\\resize.cpp:4152: error: (-215:Assertion failed) !ssize.empty() in function 'cv::resize'\n",
      "\n",
      "Error processing face in D:/test_dataset/real\\0001e96803--623955e76e1ee5175569a12b__HONOR 10I .mp4: OpenCV(4.10.0) D:\\a\\opencv-python\\opencv-python\\opencv\\modules\\imgproc\\src\\resize.cpp:4152: error: (-215:Assertion failed) !ssize.empty() in function 'cv::resize'\n",
      "\n",
      "Error processing face in D:/test_dataset/real\\0001e96803--623955e76e1ee5175569a12b__HONOR 10I .mp4: OpenCV(4.10.0) D:\\a\\opencv-python\\opencv-python\\opencv\\modules\\imgproc\\src\\resize.cpp:4152: error: (-215:Assertion failed) !ssize.empty() in function 'cv::resize'\n",
      "\n",
      "Error processing face in D:/test_dataset/real\\0001e96803--623955e76e1ee5175569a12b__HONOR 10I .mp4: OpenCV(4.10.0) D:\\a\\opencv-python\\opencv-python\\opencv\\modules\\imgproc\\src\\resize.cpp:4152: error: (-215:Assertion failed) !ssize.empty() in function 'cv::resize'\n",
      "\n",
      "Error processing face in D:/test_dataset/real\\0001e96803--623955e76e1ee5175569a12b__HONOR 10I .mp4: OpenCV(4.10.0) D:\\a\\opencv-python\\opencv-python\\opencv\\modules\\imgproc\\src\\resize.cpp:4152: error: (-215:Assertion failed) !ssize.empty() in function 'cv::resize'\n",
      "\n"
     ]
    },
    {
     "name": "stderr",
     "output_type": "stream",
     "text": [
      " 50%|██████████████████████████████████████████                                          | 1/2 [00:34<00:34, 34.32s/it]"
     ]
    },
    {
     "name": "stdout",
     "output_type": "stream",
     "text": [
      "Error processing face in D:/test_dataset/real\\0001e96803--623955e76e1ee5175569a12b__HONOR 10I .mp4: OpenCV(4.10.0) D:\\a\\opencv-python\\opencv-python\\opencv\\modules\\imgproc\\src\\resize.cpp:4152: error: (-215:Assertion failed) !ssize.empty() in function 'cv::resize'\n",
      "\n"
     ]
    },
    {
     "name": "stderr",
     "output_type": "stream",
     "text": [
      "100%|████████████████████████████████████████████████████████████████████████████████████| 2/2 [01:19<00:00, 39.85s/it]\n"
     ]
    },
    {
     "name": "stdout",
     "output_type": "stream",
     "text": [
      "Processing fake videos...\n"
     ]
    },
    {
     "name": "stderr",
     "output_type": "stream",
     "text": [
      "100%|████████████████████████████████████████████████████████████████████████████████████| 2/2 [01:24<00:00, 42.13s/it]\n"
     ]
    }
   ],
   "source": [
    "import os\n",
    "import glob\n",
    "import torch\n",
    "from PIL import Image\n",
    "from facenet_pytorch import MTCNN, InceptionResnetV1\n",
    "import cv2\n",
    "from tqdm import tqdm\n",
    "\n",
    "# Set paths to the dataset folders\n",
    "real_videos_path = 'D:/test_dataset/real'\n",
    "fake_videos_path = 'D:/test_dataset/fake'\n",
    "\n",
    "# Output directories for processed videos\n",
    "output_dir_real = 'D:/test_dataset/processed/real'\n",
    "output_dir_fake = 'D:/test_dataset/processed/fake'\n",
    "\n",
    "os.makedirs(output_dir_real, exist_ok=True)\n",
    "os.makedirs(output_dir_fake, exist_ok=True)\n",
    "\n",
    "# Initialize MTCNN (face detection) and InceptionResnetV1 (embeddings)\n",
    "device = torch.device('cuda' if torch.cuda.is_available() else 'cpu')\n",
    "mtcnn = MTCNN(keep_all=True, device=device)\n",
    "resnet = InceptionResnetV1(pretrained='vggface2').eval().to(device)\n",
    "\n",
    "# Function to extract frames from a video\n",
    "def frame_extract(path):\n",
    "    vid_obj = cv2.VideoCapture(path)\n",
    "    success, image = True, None\n",
    "    while success:\n",
    "        success, image = vid_obj.read()\n",
    "        if success:\n",
    "            yield cv2.cvtColor(image, cv2.COLOR_BGR2RGB)\n",
    "\n",
    "# Process frames and save face-only videos\n",
    "def process_videos(video_paths, output_dir):\n",
    "    for path in tqdm(video_paths):\n",
    "        out_path = os.path.join(output_dir, os.path.basename(path))\n",
    "        if os.path.exists(out_path):\n",
    "            print(f\"File already exists: {out_path}\")\n",
    "            continue\n",
    "\n",
    "        out = cv2.VideoWriter(out_path, cv2.VideoWriter_fourcc(*'MJPG'), 30, (112, 112))\n",
    "        for idx, frame in enumerate(frame_extract(path)):\n",
    "            if idx > 150:  # Limit to the first 150 frames\n",
    "                break\n",
    "            frame_pil = Image.fromarray(frame)\n",
    "            boxes, _ = mtcnn.detect(frame_pil)\n",
    "            if boxes is not None:\n",
    "                for box in boxes:\n",
    "                    x1, y1, x2, y2 = map(int, box)\n",
    "                    try:\n",
    "                        cropped_face = frame[y1:y2, x1:x2]\n",
    "                        resized_face = cv2.resize(cropped_face, (112, 112))\n",
    "                        out.write(cv2.cvtColor(resized_face, cv2.COLOR_RGB2BGR))\n",
    "                    except Exception as e:\n",
    "                        print(f\"Error processing face in {path}: {e}\")\n",
    "        out.release()\n",
    "\n",
    "# Collect video files\n",
    "video_files_real = glob.glob(os.path.join(real_videos_path, '*.mp4'))\n",
    "video_files_fake = glob.glob(os.path.join(fake_videos_path, '*.mp4'))\n",
    "\n",
    "# Process real and fake videos\n",
    "print(\"Processing real videos...\")\n",
    "process_videos(video_files_real, output_dir_real)\n",
    "\n",
    "print(\"Processing fake videos...\")\n",
    "process_videos(video_files_fake, output_dir_fake)\n"
   ]
  },
  {
   "cell_type": "code",
   "execution_count": null,
   "id": "4435cdad-d78e-4b5d-8fef-66e03ed99e0e",
   "metadata": {},
   "outputs": [],
   "source": []
  }
 ],
 "metadata": {
  "kernelspec": {
   "display_name": "Python 3 (ipykernel)",
   "language": "python",
   "name": "python3"
  },
  "language_info": {
   "codemirror_mode": {
    "name": "ipython",
    "version": 3
   },
   "file_extension": ".py",
   "mimetype": "text/x-python",
   "name": "python",
   "nbconvert_exporter": "python",
   "pygments_lexer": "ipython3",
   "version": "3.11.0"
  }
 },
 "nbformat": 4,
 "nbformat_minor": 5
}
